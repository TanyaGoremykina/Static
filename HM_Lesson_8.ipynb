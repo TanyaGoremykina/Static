{
 "cells": [
  {
   "cell_type": "code",
   "execution_count": null,
   "metadata": {},
   "outputs": [],
   "source": [
    "## Провести дисперсионный анализ для определения того, есть ли различия среднего роста среди взрослых футболистов,\n",
    "## хоккеистов и штангистов. Даны значения роста в трех группах случайно выбранных спортсменов:\n",
    "## Футболисты: 173, 175, 180, 178, 177, 185, 183, 182. \n",
    "## Хоккеисты: 177, 179, 180, 188, 177, 172, 171, 184, 180.\n",
    "## Штангисты: 172, 173, 169, 177, 166, 180, 178, 177, 172, 166, 170. \n",
    "## условию задачи: k = 3, футболисты = n1_f = 8; хоккеисты = n2_h = 9; тангисты = n3_s = 11"
   ]
  },
  {
   "cell_type": "code",
   "execution_count": 18,
   "metadata": {},
   "outputs": [
    {
     "data": {
      "text/plain": [
       "F_onewayResult(statistic=5.500053450812596, pvalue=0.010482206918698694)"
      ]
     },
     "execution_count": 18,
     "metadata": {},
     "output_type": "execute_result"
    }
   ],
   "source": [
    "## среднее значение по каждой группе спортсменов\n",
    "import numpy as np\n",
    "from scipy import stats\n",
    "## stats.f_oneway?\n",
    "n1 = np.array([173, 175, 180, 178, 177, 185, 183, 182])\n",
    "n2 = np.array([177, 179, 180, 188, 177, 172, 171, 184, 180])\n",
    "n3 = np.array([172, 173, 169, 177, 166, 180, 178, 177, 172, 166, 170])\n",
    "stats.f_oneway(n1,n2,n3)"
   ]
  },
  {
   "cell_type": "code",
   "execution_count": null,
   "metadata": {},
   "outputs": [],
   "source": [
    "## уровень значимости а=0,05. По таблице критических точек распределения Фишера (V1=2,V2=25) = 3,385\n",
    "## учитывая что F расчетная (5,5) больше чем F табличное (3,385), т.е. различия между группами статистически значимое\n",
    "## (оказывает статистически значимый эффект).Т.о. рост влияет на спортивное направление (футболист, хоккеист и т.д.)"
   ]
  }
 ],
 "metadata": {
  "kernelspec": {
   "display_name": "Python 3",
   "language": "python",
   "name": "python3"
  },
  "language_info": {
   "codemirror_mode": {
    "name": "ipython",
    "version": 3
   },
   "file_extension": ".py",
   "mimetype": "text/x-python",
   "name": "python",
   "nbconvert_exporter": "python",
   "pygments_lexer": "ipython3",
   "version": "3.8.5"
  }
 },
 "nbformat": 4,
 "nbformat_minor": 4
}
